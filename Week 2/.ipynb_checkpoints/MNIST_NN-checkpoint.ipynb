{
 "cells": [
  {
   "cell_type": "code",
   "execution_count": 1,
   "metadata": {},
   "outputs": [
    {
     "name": "stdout",
     "output_type": "stream",
     "text": [
      "Downloading data from https://storage.googleapis.com/tensorflow/tf-keras-datasets/mnist.npz\n",
      "11493376/11490434 [==============================] - 2s 0us/step\n"
     ]
    }
   ],
   "source": [
    "import tensorflow as tf\n",
    "import numpy as np\n",
    "\n",
    "import matplotlib.pyplot as plt\n",
    "\n",
    "mnist = tf.keras.datasets.mnist\n",
    "\n",
    "(x_train, y_train), (x_test, y_test) = mnist.load_data()\n",
    "\n",
    "x_train = x_train / 255.0\n",
    "x_test = x_test / 255.0"
   ]
  },
  {
   "cell_type": "code",
   "execution_count": 2,
   "metadata": {},
   "outputs": [],
   "source": [
    "model = tf.keras.models.Sequential([\n",
    "    tf.keras.layers.Flatten(),\n",
    "    tf.keras.layers.Dense(128, activation=tf.nn.relu),\n",
    "    tf.keras.layers.Dense(10, activation=tf.nn.softmax)\n",
    "])"
   ]
  },
  {
   "cell_type": "code",
   "execution_count": 3,
   "metadata": {},
   "outputs": [],
   "source": [
    "class myCallback(tf.keras.callbacks.Callback):\n",
    "    def on_epoch_end(self, epoch, logs={}):\n",
    "        if(logs.get('accuracy')<0.01):\n",
    "            print(\"Reaching 99% accuracy, cancelling training!\\n\")\n",
    "            self.model.stop_training=True\n",
    "            \n",
    "callbacks = myCallback()"
   ]
  },
  {
   "cell_type": "code",
   "execution_count": null,
   "metadata": {},
   "outputs": [
    {
     "name": "stdout",
     "output_type": "stream",
     "text": [
      "Train on 60000 samples\n",
      "Epoch 1/10\n",
      "60000/60000 [==============================] - 9s 146us/sample - loss: 0.2564 - accuracy: 0.9265\n",
      "Epoch 2/10\n",
      "60000/60000 [==============================] - 9s 151us/sample - loss: 0.1112 - accuracy: 0.9671\n",
      "Epoch 3/10\n",
      "60000/60000 [==============================] - 12s 195us/sample - loss: 0.0763 - accuracy: 0.9772\n",
      "Epoch 4/10\n",
      "60000/60000 [==============================] - 10s 166us/sample - loss: 0.0579 - accuracy: 0.9825\n",
      "Epoch 5/10\n",
      "60000/60000 [==============================] - 12s 192us/sample - loss: 0.0438 - accuracy: 0.9862\n",
      "Epoch 6/10\n",
      "60000/60000 [==============================] - 12s 202us/sample - loss: 0.0349 - accuracy: 0.9894\n",
      "Epoch 7/10\n",
      "60000/60000 [==============================] - 12s 192us/sample - loss: 0.0288 - accuracy: 0.9905\n",
      "Epoch 8/10\n",
      "60000/60000 [==============================] - 10s 164us/sample - loss: 0.0235 - accuracy: 0.9928\n",
      "Epoch 9/10\n",
      "26336/60000 [============>.................] - ETA: 6s - loss: 0.0181 - accuracy: 0.9946"
     ]
    }
   ],
   "source": [
    "model.compile(optimizer='adam',\n",
    "             loss = 'sparse_categorical_crossentropy',\n",
    "             metrics=['accuracy'])\n",
    "\n",
    "model.fit(x_train, y_train, epochs=10, callbacks=[callbacks])"
   ]
  },
  {
   "cell_type": "code",
   "execution_count": null,
   "metadata": {},
   "outputs": [],
   "source": [
    "model.evaluate(x_test, y_test)"
   ]
  },
  {
   "cell_type": "code",
   "execution_count": null,
   "metadata": {},
   "outputs": [],
   "source": []
  }
 ],
 "metadata": {
  "kernelspec": {
   "display_name": "Python 3",
   "language": "python",
   "name": "python3"
  },
  "language_info": {
   "codemirror_mode": {
    "name": "ipython",
    "version": 3
   },
   "file_extension": ".py",
   "mimetype": "text/x-python",
   "name": "python",
   "nbconvert_exporter": "python",
   "pygments_lexer": "ipython3",
   "version": "3.6.8"
  }
 },
 "nbformat": 4,
 "nbformat_minor": 2
}
