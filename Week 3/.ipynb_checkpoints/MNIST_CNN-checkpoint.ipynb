{
 "cells": [
  {
   "cell_type": "code",
   "execution_count": 7,
   "metadata": {},
   "outputs": [
    {
     "name": "stdout",
     "output_type": "stream",
     "text": [
      "2.0.0\n"
     ]
    }
   ],
   "source": [
    "import tensorflow as tf\n",
    "print(tf.__version__)\n",
    "\n",
    "from os import path, getcwd, chdir\n",
    "\n",
    "# DO NOT CHANGE THE LINE BELOW. If you are developing in a local\n",
    "# environment, then grab mnist.npz from the Coursera Jupyter Notebook\n",
    "# and place it inside a local folder and edit the path to that location\n",
    "path = f\"{getcwd()}/mnist.npz\""
   ]
  },
  {
   "cell_type": "code",
   "execution_count": 10,
   "metadata": {},
   "outputs": [],
   "source": [
    "class myCallback(tf.keras.callbacks.Callback):\n",
    "    def on_epoch_end(self, epoch, logs={}):\n",
    "        if(logs.get('accuracy')>0.998):\n",
    "            print(\"Reaching 99.8% accuracy so cancelling training!\\n\")\n",
    "            self.model.stop_training=True\n",
    "\n",
    "callbacks = myCallback()\n",
    "\n",
    "def train_mnist_conv():\n",
    "    mnist = tf.keras.datasets.mnist\n",
    "    (training_images, training_labels), (test_images, test_labels) = mnist.load_data(path=path)\n",
    "    \n",
    "    training_images=training_images.reshape(60000, 28, 28, 1)\n",
    "    training_images=training_images / 255.0\n",
    "\n",
    "    test_images = test_images.reshape(10000, 28, 28, 1)\n",
    "    test_images=test_images/255.0\n",
    "    \n",
    "    model = tf.keras.models.Sequential([\n",
    "            tf.keras.layers.Conv2D(64, (3,3), activation='relu', input_shape=(28, 28, 1)),\n",
    "            tf.keras.layers.MaxPooling2D(2, 2),\n",
    "            tf.keras.layers.Conv2D(64, (3,3), activation='relu'),\n",
    "            tf.keras.layers.MaxPooling2D(2,2),\n",
    "            tf.keras.layers.Flatten(),\n",
    "            tf.keras.layers.Dense(128, activation='relu'),\n",
    "            tf.keras.layers.Dense(10, activation='softmax')\n",
    "    ])\n",
    "    \n",
    "    #model.summary()\n",
    "    \n",
    "    model.compile(optimizer='adam', loss='sparse_categorical_crossentropy', metrics=['accuracy'])\n",
    "    \n",
    "    history = model.fit(training_images, training_labels, epochs=10, callbacks = [callbacks])\n",
    "    return history.epoch, history.history['accuracy'][-1]"
   ]
  },
  {
   "cell_type": "code",
   "execution_count": 11,
   "metadata": {},
   "outputs": [
    {
     "name": "stdout",
     "output_type": "stream",
     "text": [
      "Train on 60000 samples\n",
      "Epoch 1/10\n",
      "60000/60000 [==============================] - 39s 655us/sample - loss: 0.1192 - accuracy: 0.9628\n",
      "Epoch 2/10\n",
      "60000/60000 [==============================] - 40s 660us/sample - loss: 0.0392 - accuracy: 0.9880\n",
      "Epoch 3/10\n",
      "60000/60000 [==============================] - 43s 711us/sample - loss: 0.0273 - accuracy: 0.9916\n",
      "Epoch 4/10\n",
      "60000/60000 [==============================] - 44s 737us/sample - loss: 0.0191 - accuracy: 0.9938\n",
      "Epoch 5/10\n",
      "60000/60000 [==============================] - 41s 675us/sample - loss: 0.0148 - accuracy: 0.9950\n",
      "Epoch 6/10\n",
      "60000/60000 [==============================] - 46s 764us/sample - loss: 0.0115 - accuracy: 0.9962\n",
      "Epoch 7/10\n",
      "60000/60000 [==============================] - 46s 768us/sample - loss: 0.0092 - accuracy: 0.9969\n",
      "Epoch 8/10\n",
      "60000/60000 [==============================] - 55s 920us/sample - loss: 0.0071 - accuracy: 0.9976\n",
      "Epoch 9/10\n",
      "60000/60000 [==============================] - 50s 834us/sample - loss: 0.0073 - accuracy: 0.9977\n",
      "Epoch 10/10\n",
      "60000/60000 [==============================] - 47s 775us/sample - loss: 0.0076 - accuracy: 0.9974\n"
     ]
    }
   ],
   "source": [
    "epochs, accuracy = train_mnist_conv()"
   ]
  },
  {
   "cell_type": "code",
   "execution_count": null,
   "metadata": {},
   "outputs": [],
   "source": []
  }
 ],
 "metadata": {
  "kernelspec": {
   "display_name": "Python 3",
   "language": "python",
   "name": "python3"
  },
  "language_info": {
   "codemirror_mode": {
    "name": "ipython",
    "version": 3
   },
   "file_extension": ".py",
   "mimetype": "text/x-python",
   "name": "python",
   "nbconvert_exporter": "python",
   "pygments_lexer": "ipython3",
   "version": "3.6.8"
  }
 },
 "nbformat": 4,
 "nbformat_minor": 2
}
