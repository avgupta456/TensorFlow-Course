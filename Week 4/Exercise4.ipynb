{
 "cells": [
  {
   "cell_type": "code",
   "execution_count": 2,
   "metadata": {},
   "outputs": [],
   "source": [
    "import tensorflow as tf\n",
    "import os\n",
    "import zipfile\n",
    "from os import path, getcwd, chdir\n",
    "\n",
    "path = f\"{getcwd()}/happy-or-sad.zip\"\n",
    "\n",
    "zip_ref = zipfile.ZipFile(path, 'r')\n",
    "zip_ref.extractall(\"/tmp/h-or-s\")\n",
    "zip_ref.close()"
   ]
  },
  {
   "cell_type": "code",
   "execution_count": 3,
   "metadata": {},
   "outputs": [],
   "source": [
    "from tensorflow.keras.preprocessing.image import ImageDataGenerator\n",
    "\n",
    "DESIRED_ACCURACY = 0.999\n",
    "\n",
    "class myCallback(tf.keras.callbacks.Callback):\n",
    "    def on_epoch_end(self, epoch, logs={}):\n",
    "        if(logs.get('acc')>DESIRED_ACCURACY):\n",
    "            print(\"Reaching desired accuracy so cancelling training!\\n\")\n",
    "            self.model.stop_training=True\n",
    "\n",
    "def train_happy_sad_model():\n",
    "    callbacks = myCallback()\n",
    "    \n",
    "    model = tf.keras.models.Sequential([\n",
    "        tf.keras.layers.Conv2D(16, (3,3), activation='relu', input_shape=(150, 150, 3)),\n",
    "        tf.keras.layers.MaxPooling2D(2, 2),\n",
    "        \n",
    "        # The second convolution\n",
    "        tf.keras.layers.Conv2D(32, (3,3), activation='relu'),\n",
    "        tf.keras.layers.MaxPooling2D(2,2),\n",
    "        \n",
    "        # The third convolution\n",
    "        tf.keras.layers.Conv2D(64, (3,3), activation='relu'),\n",
    "        tf.keras.layers.MaxPooling2D(2,2),\n",
    "        \n",
    "        # Flatten the results to feed into a DNN\n",
    "        tf.keras.layers.Flatten(),\n",
    "        \n",
    "        # 512 neuron hidden layer\n",
    "        tf.keras.layers.Dense(512, activation='relu'),\n",
    "        \n",
    "        # Only 1 output neuron. It will contain a value from 0-1 where 0 for 1 class ('horses') and 1 for the other ('humans')\n",
    "        tf.keras.layers.Dense(1, activation='sigmoid')\n",
    "    ])\n",
    "\n",
    "    model.compile(loss='binary_crossentropy',\n",
    "              optimizer='adam',#RMSprop(lr=0.001),\n",
    "              metrics=['acc'])\n",
    "\n",
    "    train_datagen = ImageDataGenerator(rescale=1/255)\n",
    "\n",
    "    train_generator = train_datagen.flow_from_directory(\n",
    "        '/tmp/h-or-s',\n",
    "        target_size=(150, 150),\n",
    "        batch_size=128,\n",
    "        class_mode='binary')\n",
    "        \n",
    "    history = model.fit_generator(\n",
    "        train_generator,\n",
    "        steps_per_epoch=8,  \n",
    "        epochs=15,\n",
    "        verbose=1,\n",
    "        callbacks = [callbacks])\n",
    "        \n",
    "    return history.history['acc'][-1]"
   ]
  },
  {
   "cell_type": "code",
   "execution_count": 4,
   "metadata": {},
   "outputs": [
    {
     "name": "stdout",
     "output_type": "stream",
     "text": [
      "Found 80 images belonging to 2 classes.\n",
      "Epoch 1/15\n",
      "8/8 [==============================] - 28s 3s/step - loss: 0.8938 - acc: 0.4875\n",
      "Epoch 2/15\n",
      "8/8 [==============================] - 23s 3s/step - loss: 0.5752 - acc: 0.8234\n",
      "Epoch 3/15\n",
      "8/8 [==============================] - 25s 3s/step - loss: 0.2028 - acc: 0.9469\n",
      "Epoch 4/15\n",
      "8/8 [==============================] - 23s 3s/step - loss: 0.0617 - acc: 0.9812\n",
      "Epoch 5/15\n",
      "7/8 [=========================>....] - ETA: 2s - loss: 0.0168 - acc: 1.0000Reaching desired accuracy so cancelling training!\n",
      "\n",
      "8/8 [==============================] - 16s 2s/step - loss: 0.0156 - acc: 1.0000\n"
     ]
    },
    {
     "data": {
      "text/plain": [
       "1.0"
      ]
     },
     "execution_count": 4,
     "metadata": {},
     "output_type": "execute_result"
    }
   ],
   "source": [
    "# The Expected output: \"Reached 99.9% accuracy so cancelling training!\"\"\n",
    "train_happy_sad_model()"
   ]
  },
  {
   "cell_type": "code",
   "execution_count": null,
   "metadata": {},
   "outputs": [],
   "source": []
  }
 ],
 "metadata": {
  "kernelspec": {
   "display_name": "Python 3",
   "language": "python",
   "name": "python3"
  }
 },
 "nbformat": 4,
 "nbformat_minor": 2
}
